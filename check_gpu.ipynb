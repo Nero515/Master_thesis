{
 "cells": [
  {
   "cell_type": "code",
   "execution_count": 1,
   "metadata": {},
   "outputs": [],
   "source": [
    "import numpy as np\n",
    "from random import shuffle\n",
    "import matplotlib.pyplot as plt\n",
    "from sklearn.model_selection import  train_test_split\n",
    "import os\n",
    "import pandas as pd"
   ]
  },
  {
   "cell_type": "code",
   "execution_count": 2,
   "metadata": {},
   "outputs": [
    {
     "data": {
      "text/html": [
       "<div>\n",
       "<style scoped>\n",
       "    .dataframe tbody tr th:only-of-type {\n",
       "        vertical-align: middle;\n",
       "    }\n",
       "\n",
       "    .dataframe tbody tr th {\n",
       "        vertical-align: top;\n",
       "    }\n",
       "\n",
       "    .dataframe thead th {\n",
       "        text-align: right;\n",
       "    }\n",
       "</style>\n",
       "<table border=\"1\" class=\"dataframe\">\n",
       "  <thead>\n",
       "    <tr style=\"text-align: right;\">\n",
       "      <th></th>\n",
       "      <th>accuracy</th>\n",
       "      <th>val_accuracy</th>\n",
       "      <th>loss</th>\n",
       "      <th>val_loss</th>\n",
       "      <th>training_time</th>\n",
       "      <th>training_time_epoch</th>\n",
       "      <th>batch_size</th>\n",
       "      <th>trainable_params</th>\n",
       "      <th>non_trainable_params</th>\n",
       "      <th>total_params_vector</th>\n",
       "      <th>Test_acc</th>\n",
       "      <th>Epoch_test_start</th>\n",
       "      <th>Cascade_type</th>\n",
       "    </tr>\n",
       "  </thead>\n",
       "  <tbody>\n",
       "    <tr>\n",
       "      <th>0</th>\n",
       "      <td>[0.2753861032459725, 0.2381178112611203, 0.247...</td>\n",
       "      <td>[0.24723637104034424, 0.24185454845428467, 0.2...</td>\n",
       "      <td>[2.9638479066367953, 3.0753472376083306, 2.864...</td>\n",
       "      <td>[3.3351640701293945, 2.958730459213257, 3.2043...</td>\n",
       "      <td>7356.100297</td>\n",
       "      <td>1471.220059</td>\n",
       "      <td>32</td>\n",
       "      <td>[24059136.0, 24059136.0, 24059136.0, 24059136....</td>\n",
       "      <td>[276196.0, 276196.0, 276196.0, 276196.0, 27619...</td>\n",
       "      <td>24335332</td>\n",
       "      <td>0.307</td>\n",
       "      <td>14</td>\n",
       "      <td>RSCL</td>\n",
       "    </tr>\n",
       "  </tbody>\n",
       "</table>\n",
       "</div>"
      ],
      "text/plain": [
       "                                            accuracy  \\\n",
       "0  [0.2753861032459725, 0.2381178112611203, 0.247...   \n",
       "\n",
       "                                        val_accuracy  \\\n",
       "0  [0.24723637104034424, 0.24185454845428467, 0.2...   \n",
       "\n",
       "                                                loss  \\\n",
       "0  [2.9638479066367953, 3.0753472376083306, 2.864...   \n",
       "\n",
       "                                            val_loss  training_time  \\\n",
       "0  [3.3351640701293945, 2.958730459213257, 3.2043...    7356.100297   \n",
       "\n",
       "   training_time_epoch  batch_size  \\\n",
       "0          1471.220059          32   \n",
       "\n",
       "                                    trainable_params  \\\n",
       "0  [24059136.0, 24059136.0, 24059136.0, 24059136....   \n",
       "\n",
       "                                non_trainable_params  total_params_vector  \\\n",
       "0  [276196.0, 276196.0, 276196.0, 276196.0, 27619...             24335332   \n",
       "\n",
       "   Test_acc  Epoch_test_start Cascade_type  \n",
       "0     0.307                14         RSCL  "
      ]
     },
     "execution_count": 2,
     "metadata": {},
     "output_type": "execute_result"
    }
   ],
   "source": [
    "pd.read_parquet(\"/workplace/tests/2022-10-23 14:06:10.948145_ResNet32_CIFAR100/results/cascade_training.parquet\")"
   ]
  },
  {
   "cell_type": "code",
   "execution_count": 3,
   "metadata": {},
   "outputs": [
    {
     "data": {
      "text/html": [
       "<div>\n",
       "<style scoped>\n",
       "    .dataframe tbody tr th:only-of-type {\n",
       "        vertical-align: middle;\n",
       "    }\n",
       "\n",
       "    .dataframe tbody tr th {\n",
       "        vertical-align: top;\n",
       "    }\n",
       "\n",
       "    .dataframe thead th {\n",
       "        text-align: right;\n",
       "    }\n",
       "</style>\n",
       "<table border=\"1\" class=\"dataframe\">\n",
       "  <thead>\n",
       "    <tr style=\"text-align: right;\">\n",
       "      <th></th>\n",
       "      <th>accuracy</th>\n",
       "      <th>val_accuracy</th>\n",
       "      <th>loss</th>\n",
       "      <th>val_loss</th>\n",
       "      <th>training_time</th>\n",
       "      <th>training_time_epoch</th>\n",
       "      <th>batch_size</th>\n",
       "      <th>Test_acc</th>\n",
       "      <th>trainable_params</th>\n",
       "      <th>non_trainable_params</th>\n",
       "      <th>total_params</th>\n",
       "    </tr>\n",
       "  </thead>\n",
       "  <tbody>\n",
       "    <tr>\n",
       "      <th>0</th>\n",
       "      <td>[0.03910255501069419, 0.06992224698274928, 0.0...</td>\n",
       "      <td>[0.057363636791706085, 0.08063636720180511, 0....</td>\n",
       "      <td>[4.106273132032564, 3.695395024251419, 3.52890...</td>\n",
       "      <td>[4.254872798919678, 7.7109694480896, 9.3481187...</td>\n",
       "      <td>10514.588781</td>\n",
       "      <td>210.291776</td>\n",
       "      <td>32</td>\n",
       "      <td>0.2986</td>\n",
       "      <td>24282212</td>\n",
       "      <td>53120</td>\n",
       "      <td>24335332</td>\n",
       "    </tr>\n",
       "  </tbody>\n",
       "</table>\n",
       "</div>"
      ],
      "text/plain": [
       "                                            accuracy  \\\n",
       "0  [0.03910255501069419, 0.06992224698274928, 0.0...   \n",
       "\n",
       "                                        val_accuracy  \\\n",
       "0  [0.057363636791706085, 0.08063636720180511, 0....   \n",
       "\n",
       "                                                loss  \\\n",
       "0  [4.106273132032564, 3.695395024251419, 3.52890...   \n",
       "\n",
       "                                            val_loss  training_time  \\\n",
       "0  [4.254872798919678, 7.7109694480896, 9.3481187...   10514.588781   \n",
       "\n",
       "   training_time_epoch  batch_size  Test_acc  trainable_params  \\\n",
       "0           210.291776          32    0.2986          24282212   \n",
       "\n",
       "   non_trainable_params  total_params  \n",
       "0                 53120      24335332  "
      ]
     },
     "execution_count": 3,
     "metadata": {},
     "output_type": "execute_result"
    }
   ],
   "source": [
    "pd.read_parquet(\"/workplace/tests/2022-10-23 14:06:10.948145_ResNet32_CIFAR100/results/normal_training.parquet\")"
   ]
  },
  {
   "cell_type": "code",
   "execution_count": 3,
   "metadata": {},
   "outputs": [
    {
     "name": "stderr",
     "output_type": "stream",
     "text": [
      "2022-07-10 17:09:26.204700: I tensorflow/stream_executor/cuda/cuda_gpu_executor.cc:952] successful NUMA node read from SysFS had negative value (-1), but there must be at least one NUMA node, so returning NUMA node zero\n",
      "2022-07-10 17:09:26.291619: I tensorflow/stream_executor/cuda/cuda_gpu_executor.cc:952] successful NUMA node read from SysFS had negative value (-1), but there must be at least one NUMA node, so returning NUMA node zero\n",
      "2022-07-10 17:09:26.291852: I tensorflow/stream_executor/cuda/cuda_gpu_executor.cc:952] successful NUMA node read from SysFS had negative value (-1), but there must be at least one NUMA node, so returning NUMA node zero\n"
     ]
    },
    {
     "data": {
      "text/plain": [
       "[PhysicalDevice(name='/physical_device:GPU:0', device_type='GPU')]"
      ]
     },
     "execution_count": 3,
     "metadata": {},
     "output_type": "execute_result"
    }
   ],
   "source": [
    "tf.config.list_physical_devices('GPU')"
   ]
  },
  {
   "cell_type": "code",
   "execution_count": 4,
   "metadata": {},
   "outputs": [
    {
     "name": "stdout",
     "output_type": "stream",
     "text": [
      "1 Physical GPUs, 1 Logical GPUs\n"
     ]
    },
    {
     "name": "stderr",
     "output_type": "stream",
     "text": [
      "2022-07-10 17:09:26.995698: I tensorflow/core/platform/cpu_feature_guard.cc:152] This TensorFlow binary is optimized with oneAPI Deep Neural Network Library (oneDNN) to use the following CPU instructions in performance-critical operations:  SSE3 SSE4.1 SSE4.2 AVX\n",
      "To enable them in other operations, rebuild TensorFlow with the appropriate compiler flags.\n",
      "2022-07-10 17:09:26.996614: I tensorflow/stream_executor/cuda/cuda_gpu_executor.cc:952] successful NUMA node read from SysFS had negative value (-1), but there must be at least one NUMA node, so returning NUMA node zero\n",
      "2022-07-10 17:09:26.996906: I tensorflow/stream_executor/cuda/cuda_gpu_executor.cc:952] successful NUMA node read from SysFS had negative value (-1), but there must be at least one NUMA node, so returning NUMA node zero\n",
      "2022-07-10 17:09:26.997154: I tensorflow/stream_executor/cuda/cuda_gpu_executor.cc:952] successful NUMA node read from SysFS had negative value (-1), but there must be at least one NUMA node, so returning NUMA node zero\n",
      "2022-07-10 17:09:27.789024: I tensorflow/stream_executor/cuda/cuda_gpu_executor.cc:952] successful NUMA node read from SysFS had negative value (-1), but there must be at least one NUMA node, so returning NUMA node zero\n",
      "2022-07-10 17:09:27.789285: I tensorflow/stream_executor/cuda/cuda_gpu_executor.cc:952] successful NUMA node read from SysFS had negative value (-1), but there must be at least one NUMA node, so returning NUMA node zero\n",
      "2022-07-10 17:09:27.789495: I tensorflow/stream_executor/cuda/cuda_gpu_executor.cc:952] successful NUMA node read from SysFS had negative value (-1), but there must be at least one NUMA node, so returning NUMA node zero\n",
      "2022-07-10 17:09:27.789873: I tensorflow/core/common_runtime/gpu/gpu_device.cc:1525] Created device /job:localhost/replica:0/task:0/device:GPU:0 with 3072 MB memory:  -> device: 0, name: NVIDIA GeForce GTX 1060 6GB, pci bus id: 0000:07:00.0, compute capability: 6.1\n"
     ]
    }
   ],
   "source": [
    "gpus = tf.config.list_physical_devices('GPU')\n",
    "if gpus:\n",
    "  # Restrict TensorFlow to only allocate 1GB of memory on the first GPU\n",
    "  try:\n",
    "    tf.config.set_logical_device_configuration(\n",
    "        gpus[0],\n",
    "        [tf.config.LogicalDeviceConfiguration(memory_limit=3072)])\n",
    "    logical_gpus = tf.config.list_logical_devices('GPU')\n",
    "    print(len(gpus), \"Physical GPUs,\", len(logical_gpus), \"Logical GPUs\")\n",
    "  except RuntimeError as e:\n",
    "    # Virtual devices must be set before GPUs have been initialized\n",
    "    print(e)"
   ]
  },
  {
   "cell_type": "code",
   "execution_count": 5,
   "metadata": {},
   "outputs": [],
   "source": [
    "os.makedirs(\"./checkpoints/simple_DNN\",exist_ok=True)\n",
    "\n",
    "file_path = \"./checkpoints/simple_DNN/cp-{epoch:04d}.ckpt\"\n",
    "callbacks = [\n",
    "             EarlyStopping(\n",
    "                 monitor=\"val_loss\",\n",
    "                 min_delta = 0.005,\n",
    "                 patience=5,\n",
    "                 restore_best_weights=False,\n",
    "                 verbose=1\n",
    "             ),\n",
    "             ModelCheckpoint(\n",
    "                 filepath=file_path,\n",
    "                 monitor=\"val_los\",\n",
    "                 verbose=1,\n",
    "                 save_weights_only=True,\n",
    "\n",
    "             )\n",
    "]\n",
    "\n",
    "class ResNet_Model(Model):\n",
    "  def __init__(self, num_classes, layers_num):\n",
    "    model_2 = ResNet50(weights=\"imagenet\", include_top=False,input_tensor=Input(shape=(224, 224, 3)))\n",
    "    headModel = model_2.output\n",
    "    headModel = AveragePooling2D(pool_size=(7, 7))(headModel)\n",
    "    headModel = Flatten(name=\"flatten\")(headModel)\n",
    "    for _ in range(layers_num-1):\n",
    "      headModel = Dense(256, activation=\"relu\")(headModel)\n",
    "    headModel = Dense(num_classes, activation=\"softmax\")(headModel)\n",
    "    self.model = Model(inputs=model_2.input, outputs=headModel)\n",
    "    print(self.model.summary())\n",
    "  \n",
    "\n",
    "class VGG16_Model(Model):\n",
    "  def __init__(self, input_shape, num_classes, layers):\n",
    "    model_2 = VGG16(weights='imagenet',input_tensor=Input(shape=input_shape),include_top=False)\n",
    "\n",
    "    model = Sequential()\n",
    "    model.add(Input(shape=input_shape))\n",
    "    for layer in model_2.layers[1:-1]:\n",
    "      model.add(layer)\n",
    "    \n",
    "    for _ in range(layers-1):\n",
    "      model.add(Dense(254, activation=\"relu\"))\n",
    "    model.add(Dense(num_classes, activation=\"softmax\"))\n",
    "    self.model = model\n",
    "    print(self.model.summary())\n",
    "\n",
    "class SimpleDNN_Model():\n",
    "  def __init__(self,input_shape, num_layers, num_classes):\n",
    "    self.input_shape = input_shape\n",
    "    self.num_layers = num_layers\n",
    "    self.num_classes = num_classes\n",
    "\n",
    "  def create_model(self):\n",
    "    input = Input(shape=self.input_shape)\n",
    "    output = Flatten(input_shape=(244,244,3))(input)\n",
    "    for _ in range(self.num_layers-1):\n",
    "      output = Dense(256, activation=\"relu\")(output)\n",
    "    output = Dense(self.num_classes, activation=\"softmax\")(output)\n",
    "\n",
    "    self.model = Model(inputs=input, outputs=output)\n",
    "    loss = CategoricalCrossentropy(\n",
    "              from_logits=False,\n",
    "              label_smoothing=0.0,\n",
    "              axis=-1,\n",
    "              name='categorical_crossentropy'\n",
    "            )\n",
    "    self.model.compile(optimizer=\"Adam\", loss=loss)\n",
    "    return self.model\n",
    "  \n",
    "  @staticmethod\n",
    "  def prepare_data(X_data):\n",
    "    return X_data/255"
   ]
  },
  {
   "cell_type": "code",
   "execution_count": 41,
   "metadata": {},
   "outputs": [],
   "source": [
    "X_train = np.load(\"./data_calibrated/MNIST/X_train.npy\", allow_pickle=True)\n",
    "y_train = np.load(\"./data_calibrated/MNIST/y_train.npy\", allow_pickle=True)\n",
    "X_valid = np.load(\"./data_calibrated/MNIST/X_valid.npy\", allow_pickle=True)\n",
    "y_valid = np.load(\"./data_calibrated/MNIST/y_valid.npy\", allow_pickle=True)\n",
    "X_test = np.load(\"./data_calibrated/MNIST/X_test.npy\", allow_pickle=True)\n",
    "y_test = np.load(\"./data_calibrated/MNIST/y_test.npy\", allow_pickle=True)\n",
    "# X_train = np.expand_dims(X_train, -1)\n",
    "# X_valid = np.expand_dims(X_valid, -1)\n",
    "# X_test = np.expand_dims(X_test, -1)\n",
    "# # skalowanie danych\n",
    "# X_train = X_train/255\n",
    "# X_valid = X_valid/255\n",
    "# X_test = X_test/255\n",
    "# # Zczytywanie kształtu danych wejściowych i wyjściowych\n",
    "# input_shape = X_train.shape[1:]\n",
    "# output_shape = len(np.unique(y_train))\n",
    "# # Tworzenie modelu\n",
    "# model_class = SimpleDNN_Model(input_shape, 10, output_shape)\n",
    "# model = model_class.create_model()\n",
    "# # Przygotowywanie danych wyjściowych\n",
    "# y_train = to_categorical(y_train)\n",
    "# y_valid = to_categorical(y_valid)"
   ]
  },
  {
   "cell_type": "code",
   "execution_count": 40,
   "metadata": {},
   "outputs": [],
   "source": [
    "from sklearn.utils import shuffle\n",
    "\n",
    "X_train_new = np.array([])\n",
    "X_valid_new = np.array([])\n",
    "X_test_new = np.array([])\n",
    "y_train_new = np.array([])\n",
    "y_valid_new = np.array([])\n",
    "y_test_new = np.array([])\n",
    "for i in np.unique(y_train):\n",
    "    X_train_temp = X_train[y_train == i][:500]\n",
    "    X_valid_temp = X_valid[y_valid == i][:50]\n",
    "    X_test_temp = X_test[y_test == i][:50]\n",
    "    y_train_temp = y_train[y_train == i][:500]\n",
    "    y_valid_temp = y_valid[y_valid == i][:50]\n",
    "    y_test_temp = y_test[y_test == i][:50]\n",
    "    if X_train_new.size ==0:\n",
    "        X_train_new = X_train_temp\n",
    "        X_valid_new = X_valid_temp\n",
    "        X_test_new = X_test_temp\n",
    "        y_train_new = y_train_temp\n",
    "        y_valid_new = y_valid_temp\n",
    "        y_test_new = y_test_temp\n",
    "    else:\n",
    "        X_train_new = np.concatenate([X_train_new, X_train_temp])\n",
    "        X_valid_new = np.concatenate([X_valid_new, X_valid_temp])\n",
    "        X_test_new = np.concatenate([X_test_new, X_test_temp])\n",
    "        y_train_new = np.concatenate([y_train_new, y_train_temp])\n",
    "        y_valid_new = np.concatenate([y_valid_new, y_valid_temp])\n",
    "        y_test_new = np.concatenate([y_test_new, y_test_temp])\n",
    "\n",
    "X_train_new, y_train_new = shuffle(X_train_new, y_train_new, random_state=0)\n",
    "X_valid_new, y_valid_new = shuffle(X_valid_new, y_valid_new, random_state=0)\n",
    "X_test_new, y_test_new = shuffle(X_test_new, y_test_new, random_state=0)\n",
    "\n",
    "with open(\"./data_calibrated/MNIST/X_train.npy\", \"wb\") as f:\n",
    "    np.save(f, X_train_new)\n",
    "with open(\"./data_calibrated/MNIST/X_valid.npy\", \"wb\") as f:\n",
    "    np.save(f, X_valid_new)\n",
    "with open(\"./data_calibrated/MNIST/X_test.npy\", \"wb\") as f:\n",
    "    np.save(f, X_test_new)\n",
    "with open(\"./data_calibrated/MNIST/y_train.npy\", \"wb\") as f:\n",
    "    np.save(f, y_train_new)\n",
    "with open(\"./data_calibrated/MNIST/y_valid.npy\", \"wb\") as f:\n",
    "    np.save(f, y_valid_new)\n",
    "with open(\"./data_calibrated/MNIST/y_test.npy\", \"wb\") as f:\n",
    "    np.save(f, y_test_new)\n",
    "    "
   ]
  },
  {
   "cell_type": "code",
   "execution_count": 42,
   "metadata": {},
   "outputs": [
    {
     "name": "stdout",
     "output_type": "stream",
     "text": [
      "(5000, 28, 28)\n",
      "(500, 28, 28)\n",
      "(500, 28, 28)\n",
      "[0 1 2 3 4 5 6 7 8 9]\n"
     ]
    },
    {
     "data": {
      "image/png": "[encoded data removed]",
      "text/plain": [
       "<Figure size 432x288 with 1 Axes>"
      ]
     },
     "metadata": {
      "needs_background": "light"
     },
     "output_type": "display_data"
    },
    {
     "name": "stdout",
     "output_type": "stream",
     "text": [
      "0\n"
     ]
    },
    {
     "data": {
      "image/png": "[encoded data removed]",
      "text/plain": [
       "<Figure size 432x288 with 1 Axes>"
      ]
     },
     "metadata": {
      "needs_background": "light"
     },
     "output_type": "display_data"
    },
    {
     "name": "stdout",
     "output_type": "stream",
     "text": [
      "7\n"
     ]
    },
    {
     "data": {
      "image/png": "[encoded data removed]",
      "text/plain": [
       "<Figure size 432x288 with 1 Axes>"
      ]
     },
     "metadata": {
      "needs_background": "light"
     },
     "output_type": "display_data"
    },
    {
     "name": "stdout",
     "output_type": "stream",
     "text": [
      "9\n"
     ]
    },
    {
     "data": {
      "image/png": "[encoded data removed]",
      "text/plain": [
       "<Figure size 432x288 with 1 Axes>"
      ]
     },
     "metadata": {
      "needs_background": "light"
     },
     "output_type": "display_data"
    },
    {
     "name": "stdout",
     "output_type": "stream",
     "text": [
      "9\n"
     ]
    },
    {
     "data": {
      "image/png": "[encoded data removed]",
      "text/plain": [
       "<Figure size 432x288 with 1 Axes>"
      ]
     },
     "metadata": {
      "needs_background": "light"
     },
     "output_type": "display_data"
    },
    {
     "name": "stdout",
     "output_type": "stream",
     "text": [
      "1\n"
     ]
    },
    {
     "data": {
      "image/png": "[encoded data removed]",
      "text/plain": [
       "<Figure size 432x288 with 1 Axes>"
      ]
     },
     "metadata": {
      "needs_background": "light"
     },
     "output_type": "display_data"
    },
    {
     "name": "stdout",
     "output_type": "stream",
     "text": [
      "5\n"
     ]
    },
    {
     "data": {
      "image/png": "[encoded data removed]",
      "text/plain": [
       "<Figure size 432x288 with 1 Axes>"
      ]
     },
     "metadata": {
      "needs_background": "light"
     },
     "output_type": "display_data"
    },
    {
     "name": "stdout",
     "output_type": "stream",
     "text": [
      "2\n"
     ]
    },
    {
     "data": {
      "image/png": "[encoded data removed]",
      "text/plain": [
       "<Figure size 432x288 with 1 Axes>"
      ]
     },
     "metadata": {
      "needs_background": "light"
     },
     "output_type": "display_data"
    },
    {
     "name": "stdout",
     "output_type": "stream",
     "text": [
      "4\n"
     ]
    },
    {
     "data": {
      "image/png": "[encoded data removed]",
      "text/plain": [
       "<Figure size 432x288 with 1 Axes>"
      ]
     },
     "metadata": {
      "needs_background": "light"
     },
     "output_type": "display_data"
    },
    {
     "name": "stdout",
     "output_type": "stream",
     "text": [
      "0\n"
     ]
    },
    {
     "data": {
      "image/png": "[encoded data removed]",
      "text/plain": [
       "<Figure size 432x288 with 1 Axes>"
      ]
     },
     "metadata": {
      "needs_background": "light"
     },
     "output_type": "display_data"
    },
    {
     "name": "stdout",
     "output_type": "stream",
     "text": [
      "5\n"
     ]
    }
   ],
   "source": [
    "print(X_train.shape)\n",
    "print(X_test.shape)\n",
    "print(X_valid.shape)\n",
    "print(np.unique(y_train))\n",
    "for i in range(10):\n",
    "    plt.imshow(X_train[i])\n",
    "    plt.show()\n",
    "    print(y_train[i])"
   ]
  },
  {
   "cell_type": "code",
   "execution_count": 44,
   "metadata": {},
   "outputs": [
    {
     "data": {
      "text/plain": [
       "2"
      ]
     },
     "execution_count": 44,
     "metadata": {},
     "output_type": "execute_result"
    }
   ],
   "source": [
    "11//5"
   ]
  },
  {
   "cell_type": "code",
   "execution_count": 13,
   "metadata": {},
   "outputs": [
    {
     "data": {
      "text/plain": [
       "<matplotlib.image.AxesImage at 0x7ff64e0e50a0>"
      ]
     },
     "execution_count": 13,
     "metadata": {},
     "output_type": "execute_result"
    },
    {
     "data": {
      "image/png": "[encoded data removed]",
      "text/plain": [
       "<Figure size 432x288 with 1 Axes>"
      ]
     },
     "metadata": {
      "needs_background": "light"
     },
     "output_type": "display_data"
    }
   ],
   "source": [
    "plt.imshow(X_train[609])"
   ]
  },
  {
   "cell_type": "code",
   "execution_count": 11,
   "metadata": {},
   "outputs": [
    {
     "data": {
      "text/plain": [
       "<matplotlib.image.AxesImage at 0x7ff3907a9ca0>"
      ]
     },
     "execution_count": 11,
     "metadata": {},
     "output_type": "execute_result"
    },
    {
     "data": {
      "image/png": "[encoded data removed]",
      "text/plain": [
       "<Figure size 432x288 with 1 Axes>"
      ]
     },
     "metadata": {
      "needs_background": "light"
     },
     "output_type": "display_data"
    }
   ],
   "source": [
    "\n",
    "from keras.preprocessing.image import img_to_array, array_to_img\n",
    "def make_3_channels(X_data):\n",
    "    X_data_new = np.zeros((X_data.shape[0], X_data.shape[1], X_data.shape[2], 3))\n",
    "    X_data_new[:,:,:,0] = X_data\n",
    "    X_data_new[:,:,:,1] = X_data\n",
    "    X_data_new[:,:,:,2] = X_data\n",
    "    return X_data_new\n",
    "\n",
    "def make_compitable_with_VGG16(X_data):\n",
    "    if X_data.shape[1] < 48:\n",
    "        X_data_new = np.zeros((X_data.shape[0],48,48,3))\n",
    "        X_data_new[:,:X_data.shape[1],:X_data.shape[2],:] = X_data\n",
    "    return X_data_new\n",
    "\n",
    "X_train_new = make_3_channels(X_train[:10])\n",
    "X_train_new = make_compitable_with_VGG16(X_train_new)\n",
    "plt.imshow(X_train_new[4])"
   ]
  },
  {
   "cell_type": "code",
   "execution_count": 6,
   "metadata": {},
   "outputs": [],
   "source": [
    "# Fitowanie modelu\n",
    "#model.fit(X_train, y_train, validation_data=( X_valid, y_valid),epochs=50, callbacks=[callbacks], batch_size=64)\n",
    "\n",
    "#prediction = np.argmax(model.predict(X_test), axis=1)\n",
    "#metrics = accuracy_score(y_test, prediction)"
   ]
  },
  {
   "cell_type": "code",
   "execution_count": 7,
   "metadata": {},
   "outputs": [
    {
     "name": "stderr",
     "output_type": "stream",
     "text": [
      "2022-06-16 18:38:04.640879: W tensorflow/core/framework/cpu_allocator_impl.cc:82] Allocation of 1313228224 exceeds 10% of free system memory.\n",
      "2022-06-16 18:38:05.454319: W tensorflow/core/framework/cpu_allocator_impl.cc:82] Allocation of 1313228224 exceeds 10% of free system memory.\n"
     ]
    },
    {
     "name": "stdout",
     "output_type": "stream",
     "text": [
      "6531/6544 [============================>.] - ETA: 0s - loss: 0.5729"
     ]
    },
    {
     "name": "stderr",
     "output_type": "stream",
     "text": [
      "2022-06-16 18:38:31.922385: W tensorflow/core/framework/cpu_allocator_impl.cc:82] Allocation of 437741696 exceeds 10% of free system memory.\n",
      "2022-06-16 18:38:32.183866: W tensorflow/core/framework/cpu_allocator_impl.cc:82] Allocation of 437741696 exceeds 10% of free system memory.\n"
     ]
    },
    {
     "name": "stdout",
     "output_type": "stream",
     "text": [
      "6544/6544 [==============================] - 31s 5ms/step - loss: 0.5728 - val_loss: 0.5658\n"
     ]
    },
    {
     "ename": "",
     "evalue": "",
     "output_type": "error",
     "traceback": [
      "\u001b[1;31mCanceled future for execute_request message before replies were done"
     ]
    },
    {
     "ename": "",
     "evalue": "",
     "output_type": "error",
     "traceback": [
      "\u001b[1;31mThe Kernel crashed while executing code in the the current cell or a previous cell. Please review the code in the cell(s) to identify a possible cause of the failure. Click <a href='https://aka.ms/vscodeJupyterKernelCrash'>here</a> for more info. View Jupyter <a href='command:jupyter.viewOutput'>log</a> for further details."
     ]
    }
   ],
   "source": [
    "model.load_weights(\"./checkpoints/simple_DNN/cp-0001.ckpt\")\n",
    "\n",
    "learning_type = \"FBCL\"\n",
    "dense_layers = []\n",
    "for i, layer in enumerate(model.layers):\n",
    "  if \"dense\" in layer.name:\n",
    "    layer.trainable = False\n",
    "    dense_layers.append(i)\n",
    "if learning_type == \"BFCL\": \n",
    "  dense_layers.reverse()\n",
    "elif learning_type == \"RSCL\":\n",
    "  shuffle(dense_layers)\n",
    "for i in dense_layers:\n",
    "  model.layers[i].trainable = True\n",
    "  # q = Queue()\n",
    "  # q.put(ret)\n",
    "  # p = Process(target=train_model, args=(model, X_train, y_train, X_valid, y_valid, q))\n",
    "  # p.start()\n",
    "  # p.join()\n",
    "  # model, rest = q.get()\n",
    "  model.fit(X_train, y_train, validation_data=( X_valid, y_valid),epochs=1, batch_size=64)\n",
    "  model.layers[i].trainable = False\n",
    "  cuda.select_device(0)\n",
    "  cuda.close()\n",
    "prediction = np.argmax(model.predict(X_test), axis=1)\n",
    "metrics = accuracy_score(y_test, prediction)"
   ]
  },
  {
   "cell_type": "code",
   "execution_count": 15,
   "metadata": {},
   "outputs": [],
   "source": [
    "cuda.select_device(0)\n",
    "cuda.close()"
   ]
  },
  {
   "cell_type": "code",
   "execution_count": null,
   "metadata": {},
   "outputs": [],
   "source": []
  }
 ],
 "metadata": {
  "kernelspec": {
   "display_name": "Python 3.8.10 64-bit",
   "language": "python",
   "name": "python3"
  },
  "language_info": {
   "codemirror_mode": {
    "name": "ipython",
    "version": 3
   },
   "file_extension": ".py",
   "mimetype": "text/x-python",
   "name": "python",
   "nbconvert_exporter": "python",
   "pygments_lexer": "ipython3",
   "version": "3.8.10"
  },
  "orig_nbformat": 4,
  "vscode": {
   "interpreter": {
    "hash": "e7370f93d1d0cde622a1f8e1c04877d8463912d04d973331ad4851f04de6915a"
   }
  }
 },
 "nbformat": 4,
 "nbformat_minor": 2
}
